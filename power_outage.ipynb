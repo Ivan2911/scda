{
 "cells": [
  {
   "cell_type": "code",
   "execution_count": 61,
   "metadata": {},
   "outputs": [
    {
     "name": "stdout",
     "output_type": "stream",
     "text": [
      "States by customers out\n",
      "States and territories by customers out\n",
      "States by customers out\n",
      "States and territories by customers out\n",
      "Arkansas70,100\n",
      "Oklahoma26,735\n",
      "Texas22,442\n",
      "Colorado15,418\n",
      "Missouri12,047\n",
      "Last Updated: 3/31/2023 9:29:13 PM GMT\n"
     ]
    }
   ],
   "source": [
    "from bs4 import BeautifulSoup\n",
    "import requests\n",
    "import time\n",
    "\n",
    "\n",
    "url = \"https://poweroutage.us/\"\n",
    "html_text = requests.get(url).text\n",
    "soup = BeautifulSoup(html_text, 'html.parser')\n",
    "table = soup.find_all('table', class_='topfivetable table-striped')\n",
    "rows = table[0].find_all('tr')\n",
    "\n",
    "for row in rows:\n",
    "    print(row.text)\n"
   ]
  },
  {
   "cell_type": "code",
   "execution_count": 62,
   "metadata": {},
   "outputs": [
    {
     "ename": "FileNotFoundError",
     "evalue": "[Errno 2] No such file or directory: 'my_data.geojson'",
     "output_type": "error",
     "traceback": [
      "\u001b[0;31m---------------------------------------------------------------------------\u001b[0m",
      "\u001b[0;31mFileNotFoundError\u001b[0m                         Traceback (most recent call last)",
      "Cell \u001b[0;32mIn[62], line 13\u001b[0m\n\u001b[1;32m     10\u001b[0m folium\u001b[39m.\u001b[39mCircle(location\u001b[39m=\u001b[39m[\u001b[39m51.5074\u001b[39m, \u001b[39m-\u001b[39m\u001b[39m0.1278\u001b[39m], radius\u001b[39m=\u001b[39m\u001b[39m1000\u001b[39m, color\u001b[39m=\u001b[39m\u001b[39m'\u001b[39m\u001b[39mred\u001b[39m\u001b[39m'\u001b[39m, fill\u001b[39m=\u001b[39m\u001b[39mTrue\u001b[39;00m)\u001b[39m.\u001b[39madd_to(my_map)\n\u001b[1;32m     12\u001b[0m \u001b[39m# Add a GeoJSON layer to the map\u001b[39;00m\n\u001b[0;32m---> 13\u001b[0m geojson_layer \u001b[39m=\u001b[39m folium\u001b[39m.\u001b[39;49mGeoJson(data\u001b[39m=\u001b[39;49m\u001b[39m'\u001b[39;49m\u001b[39mmy_data.geojson\u001b[39;49m\u001b[39m'\u001b[39;49m, name\u001b[39m=\u001b[39;49m\u001b[39m'\u001b[39;49m\u001b[39mMy GeoJSON Layer\u001b[39;49m\u001b[39m'\u001b[39;49m)\n\u001b[1;32m     14\u001b[0m geojson_layer\u001b[39m.\u001b[39madd_to(my_map)\n\u001b[1;32m     16\u001b[0m \u001b[39m# Save the map as an HTML file\u001b[39;00m\n\u001b[1;32m     17\u001b[0m \u001b[39m#my_map.save('my_map.html')\u001b[39;00m\n",
      "File \u001b[0;32m/workspaces/scda/.venv/lib/python3.10/site-packages/folium/features.py:643\u001b[0m, in \u001b[0;36mGeoJson.__init__\u001b[0;34m(self, data, style_function, highlight_function, name, overlay, control, show, smooth_factor, tooltip, embed, popup, zoom_on_click, marker)\u001b[0m\n\u001b[1;32m    638\u001b[0m         \u001b[39mraise\u001b[39;00m \u001b[39mTypeError\u001b[39;00m(\n\u001b[1;32m    639\u001b[0m             \u001b[39m\"\u001b[39m\u001b[39mOnly Marker, Circle, and CircleMarker are supported as GeoJson marker types.\u001b[39m\u001b[39m\"\u001b[39m\n\u001b[1;32m    640\u001b[0m         )\n\u001b[1;32m    641\u001b[0m \u001b[39mself\u001b[39m\u001b[39m.\u001b[39mmarker \u001b[39m=\u001b[39m marker\n\u001b[0;32m--> 643\u001b[0m \u001b[39mself\u001b[39m\u001b[39m.\u001b[39mdata \u001b[39m=\u001b[39m \u001b[39mself\u001b[39;49m\u001b[39m.\u001b[39;49mprocess_data(data)\n\u001b[1;32m    645\u001b[0m \u001b[39mif\u001b[39;00m \u001b[39mself\u001b[39m\u001b[39m.\u001b[39mstyle \u001b[39mor\u001b[39;00m \u001b[39mself\u001b[39m\u001b[39m.\u001b[39mhighlight:\n\u001b[1;32m    646\u001b[0m     \u001b[39mself\u001b[39m\u001b[39m.\u001b[39mconvert_to_feature_collection()\n",
      "File \u001b[0;32m/workspaces/scda/.venv/lib/python3.10/site-packages/folium/features.py:680\u001b[0m, in \u001b[0;36mGeoJson.process_data\u001b[0;34m(self, data)\u001b[0m\n\u001b[1;32m    678\u001b[0m         \u001b[39mif\u001b[39;00m \u001b[39mnot\u001b[39;00m \u001b[39mself\u001b[39m\u001b[39m.\u001b[39membed:\n\u001b[1;32m    679\u001b[0m             \u001b[39mself\u001b[39m\u001b[39m.\u001b[39membed_link \u001b[39m=\u001b[39m data\n\u001b[0;32m--> 680\u001b[0m         \u001b[39mwith\u001b[39;00m \u001b[39mopen\u001b[39;49m(data) \u001b[39mas\u001b[39;00m f:\n\u001b[1;32m    681\u001b[0m             \u001b[39mreturn\u001b[39;00m json\u001b[39m.\u001b[39mloads(f\u001b[39m.\u001b[39mread())\n\u001b[1;32m    682\u001b[0m \u001b[39melif\u001b[39;00m \u001b[39mhasattr\u001b[39m(data, \u001b[39m\"\u001b[39m\u001b[39m__geo_interface__\u001b[39m\u001b[39m\"\u001b[39m):\n",
      "\u001b[0;31mFileNotFoundError\u001b[0m: [Errno 2] No such file or directory: 'my_data.geojson'"
     ]
    }
   ],
   "source": [
    "import folium\n",
    "\n",
    "# Create a map centered on a specific location\n",
    "my_map = folium.Map(location=[51.5074, -0.1278], zoom_start=12)\n",
    "\n",
    "# Add a marker to the map\n",
    "folium.Marker(location=[51.5074, -0.1278], popup='London').add_to(my_map)\n",
    "\n",
    "# Add a circle to the map with a radius of 1000 meters\n",
    "folium.Circle(location=[51.5074, -0.1278], radius=1000, color='red', fill=True).add_to(my_map)\n",
    "\n",
    "# Add a GeoJSON layer to the map\n",
    "geojson_layer = folium.GeoJson(data='my_data.geojson', name='My GeoJSON Layer')\n",
    "geojson_layer.add_to(my_map)\n",
    "\n",
    "# Save the map as an HTML file\n",
    "#my_map.save('my_map.html')\n",
    "from IPython.display import IFrame\n",
    "\n",
    "# Display the map in the notebook\n",
    "IFrame(src='my_map.html', width=700, height=600)\n",
    "\n"
   ]
  }
 ],
 "metadata": {
  "kernelspec": {
   "display_name": ".venv",
   "language": "python",
   "name": "python3"
  },
  "language_info": {
   "codemirror_mode": {
    "name": "ipython",
    "version": 3
   },
   "file_extension": ".py",
   "mimetype": "text/x-python",
   "name": "python",
   "nbconvert_exporter": "python",
   "pygments_lexer": "ipython3",
   "version": "3.10.4"
  },
  "orig_nbformat": 4
 },
 "nbformat": 4,
 "nbformat_minor": 2
}
